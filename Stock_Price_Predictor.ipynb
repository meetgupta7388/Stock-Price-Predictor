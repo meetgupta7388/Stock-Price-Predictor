{
  "nbformat": 4,
  "nbformat_minor": 0,
  "metadata": {
    "colab": {
      "provenance": []
    },
    "kernelspec": {
      "name": "python3",
      "display_name": "Python 3"
    },
    "language_info": {
      "name": "python"
    }
  },
  "cells": [
    {
      "cell_type": "markdown",
      "source": [
        "**Project Title:** Stock Price Predictor with LSTM Model\n",
        "\n",
        "**Overview:**\n",
        "Developed a Stock Price Predictor using LSTM networks to forecast future stock prices based on historical data. The project provides accurate predictions, aiding investors in decision-making.\n",
        "\n",
        "**Key Features:**\n",
        "- Utilized yfinance for data collection\n",
        "- Conducted data cleaning and preprocessing\n",
        "- Implemented an LSTM model with TensorFlow and Keras\n",
        "- Trained and validated the model for accuracy\n",
        "- Created visualizations for intuitive interpretation\n",
        "- Developed a user-friendly command-line interface\n",
        "\n",
        "**Results:**\n",
        "Achieved high accuracy in predicting stock prices, outperforming traditional methods. The project demonstrates skills in time series analysis, machine learning, data visualization, and user interface development.\n",
        "\n",
        "**Technologies:**\n",
        "Python, TensorFlow, Keras, yfinance, Matplotlib\n",
        "\n",
        "**Future Enhancements:**\n",
        "Potential enhancements include sentiment analysis integration, real-time data feeds, and deployment as a web application for broader accessibility."
      ],
      "metadata": {
        "id": "u6zSVV7JYj9j"
      }
    },
    {
      "cell_type": "markdown",
      "source": [
        "**Importing necessary libraries**"
      ],
      "metadata": {
        "id": "IUgJAWNSZIQz"
      }
    },
    {
      "cell_type": "code",
      "source": [
        "!pip install --upgrade keras\n",
        "!pip install --upgrade tensorflow\n"
      ],
      "metadata": {
        "colab": {
          "base_uri": "https://localhost:8080/"
        },
        "id": "EgkaiyqR0b50",
        "outputId": "e1022c28-777a-4260-ef9d-98b0d0931923"
      },
      "execution_count": 1,
      "outputs": [
        {
          "output_type": "stream",
          "name": "stdout",
          "text": [
            "Requirement already satisfied: keras in /usr/local/lib/python3.10/dist-packages (3.0.5)\n",
            "Requirement already satisfied: absl-py in /usr/local/lib/python3.10/dist-packages (from keras) (1.4.0)\n",
            "Requirement already satisfied: numpy in /usr/local/lib/python3.10/dist-packages (from keras) (1.25.2)\n",
            "Requirement already satisfied: rich in /usr/local/lib/python3.10/dist-packages (from keras) (13.7.0)\n",
            "Requirement already satisfied: namex in /usr/local/lib/python3.10/dist-packages (from keras) (0.0.7)\n",
            "Requirement already satisfied: h5py in /usr/local/lib/python3.10/dist-packages (from keras) (3.9.0)\n",
            "Requirement already satisfied: dm-tree in /usr/local/lib/python3.10/dist-packages (from keras) (0.1.8)\n",
            "Requirement already satisfied: ml-dtypes in /usr/local/lib/python3.10/dist-packages (from keras) (0.2.0)\n",
            "Requirement already satisfied: markdown-it-py>=2.2.0 in /usr/local/lib/python3.10/dist-packages (from rich->keras) (3.0.0)\n",
            "Requirement already satisfied: pygments<3.0.0,>=2.13.0 in /usr/local/lib/python3.10/dist-packages (from rich->keras) (2.16.1)\n",
            "Requirement already satisfied: mdurl~=0.1 in /usr/local/lib/python3.10/dist-packages (from markdown-it-py>=2.2.0->rich->keras) (0.1.2)\n",
            "Requirement already satisfied: tensorflow in /usr/local/lib/python3.10/dist-packages (2.15.0)\n",
            "Collecting tensorflow\n",
            "  Downloading tensorflow-2.15.0.post1-cp310-cp310-manylinux_2_17_x86_64.manylinux2014_x86_64.whl (475.2 MB)\n",
            "\u001b[2K     \u001b[90m━━━━━━━━━━━━━━━━━━━━━━━━━━━━━━━━━━━━━━━━\u001b[0m \u001b[32m475.2/475.2 MB\u001b[0m \u001b[31m2.6 MB/s\u001b[0m eta \u001b[36m0:00:00\u001b[0m\n",
            "\u001b[?25hRequirement already satisfied: absl-py>=1.0.0 in /usr/local/lib/python3.10/dist-packages (from tensorflow) (1.4.0)\n",
            "Requirement already satisfied: astunparse>=1.6.0 in /usr/local/lib/python3.10/dist-packages (from tensorflow) (1.6.3)\n",
            "Requirement already satisfied: flatbuffers>=23.5.26 in /usr/local/lib/python3.10/dist-packages (from tensorflow) (23.5.26)\n",
            "Requirement already satisfied: gast!=0.5.0,!=0.5.1,!=0.5.2,>=0.2.1 in /usr/local/lib/python3.10/dist-packages (from tensorflow) (0.5.4)\n",
            "Requirement already satisfied: google-pasta>=0.1.1 in /usr/local/lib/python3.10/dist-packages (from tensorflow) (0.2.0)\n",
            "Requirement already satisfied: h5py>=2.9.0 in /usr/local/lib/python3.10/dist-packages (from tensorflow) (3.9.0)\n",
            "Requirement already satisfied: libclang>=13.0.0 in /usr/local/lib/python3.10/dist-packages (from tensorflow) (16.0.6)\n",
            "Requirement already satisfied: ml-dtypes~=0.2.0 in /usr/local/lib/python3.10/dist-packages (from tensorflow) (0.2.0)\n",
            "Requirement already satisfied: numpy<2.0.0,>=1.23.5 in /usr/local/lib/python3.10/dist-packages (from tensorflow) (1.25.2)\n",
            "Requirement already satisfied: opt-einsum>=2.3.2 in /usr/local/lib/python3.10/dist-packages (from tensorflow) (3.3.0)\n",
            "Requirement already satisfied: packaging in /usr/local/lib/python3.10/dist-packages (from tensorflow) (23.2)\n",
            "Requirement already satisfied: protobuf!=4.21.0,!=4.21.1,!=4.21.2,!=4.21.3,!=4.21.4,!=4.21.5,<5.0.0dev,>=3.20.3 in /usr/local/lib/python3.10/dist-packages (from tensorflow) (3.20.3)\n",
            "Requirement already satisfied: setuptools in /usr/local/lib/python3.10/dist-packages (from tensorflow) (67.7.2)\n",
            "Requirement already satisfied: six>=1.12.0 in /usr/local/lib/python3.10/dist-packages (from tensorflow) (1.16.0)\n",
            "Requirement already satisfied: termcolor>=1.1.0 in /usr/local/lib/python3.10/dist-packages (from tensorflow) (2.4.0)\n",
            "Requirement already satisfied: typing-extensions>=3.6.6 in /usr/local/lib/python3.10/dist-packages (from tensorflow) (4.10.0)\n",
            "Requirement already satisfied: wrapt<1.15,>=1.11.0 in /usr/local/lib/python3.10/dist-packages (from tensorflow) (1.14.1)\n",
            "Requirement already satisfied: tensorflow-io-gcs-filesystem>=0.23.1 in /usr/local/lib/python3.10/dist-packages (from tensorflow) (0.36.0)\n",
            "Requirement already satisfied: grpcio<2.0,>=1.24.3 in /usr/local/lib/python3.10/dist-packages (from tensorflow) (1.62.0)\n",
            "Requirement already satisfied: tensorboard<2.16,>=2.15 in /usr/local/lib/python3.10/dist-packages (from tensorflow) (2.15.2)\n",
            "Requirement already satisfied: tensorflow-estimator<2.16,>=2.15.0 in /usr/local/lib/python3.10/dist-packages (from tensorflow) (2.15.0)\n",
            "Collecting keras<2.16,>=2.15.0 (from tensorflow)\n",
            "  Downloading keras-2.15.0-py3-none-any.whl (1.7 MB)\n",
            "\u001b[2K     \u001b[90m━━━━━━━━━━━━━━━━━━━━━━━━━━━━━━━━━━━━━━━━\u001b[0m \u001b[32m1.7/1.7 MB\u001b[0m \u001b[31m66.3 MB/s\u001b[0m eta \u001b[36m0:00:00\u001b[0m\n",
            "\u001b[?25hRequirement already satisfied: wheel<1.0,>=0.23.0 in /usr/local/lib/python3.10/dist-packages (from astunparse>=1.6.0->tensorflow) (0.42.0)\n",
            "Requirement already satisfied: google-auth<3,>=1.6.3 in /usr/local/lib/python3.10/dist-packages (from tensorboard<2.16,>=2.15->tensorflow) (2.27.0)\n",
            "Requirement already satisfied: google-auth-oauthlib<2,>=0.5 in /usr/local/lib/python3.10/dist-packages (from tensorboard<2.16,>=2.15->tensorflow) (1.2.0)\n",
            "Requirement already satisfied: markdown>=2.6.8 in /usr/local/lib/python3.10/dist-packages (from tensorboard<2.16,>=2.15->tensorflow) (3.5.2)\n",
            "Requirement already satisfied: requests<3,>=2.21.0 in /usr/local/lib/python3.10/dist-packages (from tensorboard<2.16,>=2.15->tensorflow) (2.31.0)\n",
            "Requirement already satisfied: tensorboard-data-server<0.8.0,>=0.7.0 in /usr/local/lib/python3.10/dist-packages (from tensorboard<2.16,>=2.15->tensorflow) (0.7.2)\n",
            "Requirement already satisfied: werkzeug>=1.0.1 in /usr/local/lib/python3.10/dist-packages (from tensorboard<2.16,>=2.15->tensorflow) (3.0.1)\n",
            "Requirement already satisfied: cachetools<6.0,>=2.0.0 in /usr/local/lib/python3.10/dist-packages (from google-auth<3,>=1.6.3->tensorboard<2.16,>=2.15->tensorflow) (5.3.3)\n",
            "Requirement already satisfied: pyasn1-modules>=0.2.1 in /usr/local/lib/python3.10/dist-packages (from google-auth<3,>=1.6.3->tensorboard<2.16,>=2.15->tensorflow) (0.3.0)\n",
            "Requirement already satisfied: rsa<5,>=3.1.4 in /usr/local/lib/python3.10/dist-packages (from google-auth<3,>=1.6.3->tensorboard<2.16,>=2.15->tensorflow) (4.9)\n",
            "Requirement already satisfied: requests-oauthlib>=0.7.0 in /usr/local/lib/python3.10/dist-packages (from google-auth-oauthlib<2,>=0.5->tensorboard<2.16,>=2.15->tensorflow) (1.3.1)\n",
            "Requirement already satisfied: charset-normalizer<4,>=2 in /usr/local/lib/python3.10/dist-packages (from requests<3,>=2.21.0->tensorboard<2.16,>=2.15->tensorflow) (3.3.2)\n",
            "Requirement already satisfied: idna<4,>=2.5 in /usr/local/lib/python3.10/dist-packages (from requests<3,>=2.21.0->tensorboard<2.16,>=2.15->tensorflow) (3.6)\n",
            "Requirement already satisfied: urllib3<3,>=1.21.1 in /usr/local/lib/python3.10/dist-packages (from requests<3,>=2.21.0->tensorboard<2.16,>=2.15->tensorflow) (2.0.7)\n",
            "Requirement already satisfied: certifi>=2017.4.17 in /usr/local/lib/python3.10/dist-packages (from requests<3,>=2.21.0->tensorboard<2.16,>=2.15->tensorflow) (2024.2.2)\n",
            "Requirement already satisfied: MarkupSafe>=2.1.1 in /usr/local/lib/python3.10/dist-packages (from werkzeug>=1.0.1->tensorboard<2.16,>=2.15->tensorflow) (2.1.5)\n",
            "Requirement already satisfied: pyasn1<0.6.0,>=0.4.6 in /usr/local/lib/python3.10/dist-packages (from pyasn1-modules>=0.2.1->google-auth<3,>=1.6.3->tensorboard<2.16,>=2.15->tensorflow) (0.5.1)\n",
            "Requirement already satisfied: oauthlib>=3.0.0 in /usr/local/lib/python3.10/dist-packages (from requests-oauthlib>=0.7.0->google-auth-oauthlib<2,>=0.5->tensorboard<2.16,>=2.15->tensorflow) (3.2.2)\n",
            "Installing collected packages: keras, tensorflow\n",
            "  Attempting uninstall: keras\n",
            "    Found existing installation: keras 3.0.5\n",
            "    Uninstalling keras-3.0.5:\n",
            "      Successfully uninstalled keras-3.0.5\n",
            "  Attempting uninstall: tensorflow\n",
            "    Found existing installation: tensorflow 2.15.0\n",
            "    Uninstalling tensorflow-2.15.0:\n",
            "      Successfully uninstalled tensorflow-2.15.0\n",
            "Successfully installed keras-2.15.0 tensorflow-2.15.0.post1\n"
          ]
        }
      ]
    },
    {
      "cell_type": "code",
      "execution_count": 2,
      "metadata": {
        "id": "qbYFmqgWWuiO"
      },
      "outputs": [],
      "source": [
        "import numpy as np\n",
        "import pandas as pd\n",
        "import matplotlib.pyplot as plt\n",
        "import yfinance as yf"
      ]
    },
    {
      "cell_type": "markdown",
      "source": [
        "LOading the data"
      ],
      "metadata": {
        "id": "gCciLGGFZAJI"
      }
    },
    {
      "cell_type": "code",
      "source": [
        "start = '2012-01-01'\n",
        "end = '2024-03-01'\n",
        "stock = 'GOOG'\n",
        "\n",
        "data = yf.download(stock, start, end)"
      ],
      "metadata": {
        "colab": {
          "base_uri": "https://localhost:8080/"
        },
        "id": "mDF-CM5yXGKQ",
        "outputId": "32f18cce-3971-4336-a17e-ecdee5fcf706"
      },
      "execution_count": 3,
      "outputs": [
        {
          "output_type": "stream",
          "name": "stderr",
          "text": [
            "\r[*********************100%%**********************]  1 of 1 completed\n"
          ]
        }
      ]
    },
    {
      "cell_type": "markdown",
      "source": [
        "Resetting the indexes of dataset"
      ],
      "metadata": {
        "id": "BPoYuos_ZQSf"
      }
    },
    {
      "cell_type": "code",
      "source": [
        "data.reset_index(inplace=True)"
      ],
      "metadata": {
        "id": "sLGQkVo0XGmH"
      },
      "execution_count": 5,
      "outputs": []
    },
    {
      "cell_type": "markdown",
      "source": [
        "Let's see how the data is now looking"
      ],
      "metadata": {
        "id": "RkiGvX0uZUzS"
      }
    },
    {
      "cell_type": "code",
      "source": [
        "data"
      ],
      "metadata": {
        "colab": {
          "base_uri": "https://localhost:8080/",
          "height": 423
        },
        "id": "cx7sSwS5XGoo",
        "outputId": "8d979787-91e1-411e-eba8-c4e495362a4a"
      },
      "execution_count": 6,
      "outputs": [
        {
          "output_type": "execute_result",
          "data": {
            "text/plain": [
              "      index       Date        Open        High         Low       Close  \\\n",
              "0         0 2012-01-03   16.262545   16.641375   16.248346   16.573130   \n",
              "1         1 2012-01-04   16.563665   16.693678   16.453827   16.644611   \n",
              "2         2 2012-01-05   16.491436   16.537264   16.344486   16.413727   \n",
              "3         3 2012-01-06   16.417213   16.438385   16.184088   16.189817   \n",
              "4         4 2012-01-09   16.102144   16.114599   15.472754   15.503389   \n",
              "...     ...        ...         ...         ...         ...         ...   \n",
              "3054   3054 2024-02-23  144.970001  145.955002  144.789993  145.289993   \n",
              "3055   3055 2024-02-26  143.449997  143.839996  138.740005  138.750000   \n",
              "3056   3056 2024-02-27  139.410004  140.490005  138.500000  140.100006   \n",
              "3057   3057 2024-02-28  139.100006  139.279999  136.639999  137.429993   \n",
              "3058   3058 2024-02-29  138.350006  139.949997  137.570007  139.779999   \n",
              "\n",
              "       Adj Close     Volume  \n",
              "0      16.573130  147611217  \n",
              "1      16.644611  114989399  \n",
              "2      16.413727  131808205  \n",
              "3      16.189817  108119746  \n",
              "4      15.503389  233776981  \n",
              "...          ...        ...  \n",
              "3054  145.289993   14519400  \n",
              "3055  138.750000   33513000  \n",
              "3056  140.100006   22364000  \n",
              "3057  137.429993   30628700  \n",
              "3058  139.779999   35485000  \n",
              "\n",
              "[3059 rows x 8 columns]"
            ],
            "text/html": [
              "\n",
              "  <div id=\"df-ae2ccdae-e37b-4ec9-bebf-5e3afe52c7f8\" class=\"colab-df-container\">\n",
              "    <div>\n",
              "<style scoped>\n",
              "    .dataframe tbody tr th:only-of-type {\n",
              "        vertical-align: middle;\n",
              "    }\n",
              "\n",
              "    .dataframe tbody tr th {\n",
              "        vertical-align: top;\n",
              "    }\n",
              "\n",
              "    .dataframe thead th {\n",
              "        text-align: right;\n",
              "    }\n",
              "</style>\n",
              "<table border=\"1\" class=\"dataframe\">\n",
              "  <thead>\n",
              "    <tr style=\"text-align: right;\">\n",
              "      <th></th>\n",
              "      <th>index</th>\n",
              "      <th>Date</th>\n",
              "      <th>Open</th>\n",
              "      <th>High</th>\n",
              "      <th>Low</th>\n",
              "      <th>Close</th>\n",
              "      <th>Adj Close</th>\n",
              "      <th>Volume</th>\n",
              "    </tr>\n",
              "  </thead>\n",
              "  <tbody>\n",
              "    <tr>\n",
              "      <th>0</th>\n",
              "      <td>0</td>\n",
              "      <td>2012-01-03</td>\n",
              "      <td>16.262545</td>\n",
              "      <td>16.641375</td>\n",
              "      <td>16.248346</td>\n",
              "      <td>16.573130</td>\n",
              "      <td>16.573130</td>\n",
              "      <td>147611217</td>\n",
              "    </tr>\n",
              "    <tr>\n",
              "      <th>1</th>\n",
              "      <td>1</td>\n",
              "      <td>2012-01-04</td>\n",
              "      <td>16.563665</td>\n",
              "      <td>16.693678</td>\n",
              "      <td>16.453827</td>\n",
              "      <td>16.644611</td>\n",
              "      <td>16.644611</td>\n",
              "      <td>114989399</td>\n",
              "    </tr>\n",
              "    <tr>\n",
              "      <th>2</th>\n",
              "      <td>2</td>\n",
              "      <td>2012-01-05</td>\n",
              "      <td>16.491436</td>\n",
              "      <td>16.537264</td>\n",
              "      <td>16.344486</td>\n",
              "      <td>16.413727</td>\n",
              "      <td>16.413727</td>\n",
              "      <td>131808205</td>\n",
              "    </tr>\n",
              "    <tr>\n",
              "      <th>3</th>\n",
              "      <td>3</td>\n",
              "      <td>2012-01-06</td>\n",
              "      <td>16.417213</td>\n",
              "      <td>16.438385</td>\n",
              "      <td>16.184088</td>\n",
              "      <td>16.189817</td>\n",
              "      <td>16.189817</td>\n",
              "      <td>108119746</td>\n",
              "    </tr>\n",
              "    <tr>\n",
              "      <th>4</th>\n",
              "      <td>4</td>\n",
              "      <td>2012-01-09</td>\n",
              "      <td>16.102144</td>\n",
              "      <td>16.114599</td>\n",
              "      <td>15.472754</td>\n",
              "      <td>15.503389</td>\n",
              "      <td>15.503389</td>\n",
              "      <td>233776981</td>\n",
              "    </tr>\n",
              "    <tr>\n",
              "      <th>...</th>\n",
              "      <td>...</td>\n",
              "      <td>...</td>\n",
              "      <td>...</td>\n",
              "      <td>...</td>\n",
              "      <td>...</td>\n",
              "      <td>...</td>\n",
              "      <td>...</td>\n",
              "      <td>...</td>\n",
              "    </tr>\n",
              "    <tr>\n",
              "      <th>3054</th>\n",
              "      <td>3054</td>\n",
              "      <td>2024-02-23</td>\n",
              "      <td>144.970001</td>\n",
              "      <td>145.955002</td>\n",
              "      <td>144.789993</td>\n",
              "      <td>145.289993</td>\n",
              "      <td>145.289993</td>\n",
              "      <td>14519400</td>\n",
              "    </tr>\n",
              "    <tr>\n",
              "      <th>3055</th>\n",
              "      <td>3055</td>\n",
              "      <td>2024-02-26</td>\n",
              "      <td>143.449997</td>\n",
              "      <td>143.839996</td>\n",
              "      <td>138.740005</td>\n",
              "      <td>138.750000</td>\n",
              "      <td>138.750000</td>\n",
              "      <td>33513000</td>\n",
              "    </tr>\n",
              "    <tr>\n",
              "      <th>3056</th>\n",
              "      <td>3056</td>\n",
              "      <td>2024-02-27</td>\n",
              "      <td>139.410004</td>\n",
              "      <td>140.490005</td>\n",
              "      <td>138.500000</td>\n",
              "      <td>140.100006</td>\n",
              "      <td>140.100006</td>\n",
              "      <td>22364000</td>\n",
              "    </tr>\n",
              "    <tr>\n",
              "      <th>3057</th>\n",
              "      <td>3057</td>\n",
              "      <td>2024-02-28</td>\n",
              "      <td>139.100006</td>\n",
              "      <td>139.279999</td>\n",
              "      <td>136.639999</td>\n",
              "      <td>137.429993</td>\n",
              "      <td>137.429993</td>\n",
              "      <td>30628700</td>\n",
              "    </tr>\n",
              "    <tr>\n",
              "      <th>3058</th>\n",
              "      <td>3058</td>\n",
              "      <td>2024-02-29</td>\n",
              "      <td>138.350006</td>\n",
              "      <td>139.949997</td>\n",
              "      <td>137.570007</td>\n",
              "      <td>139.779999</td>\n",
              "      <td>139.779999</td>\n",
              "      <td>35485000</td>\n",
              "    </tr>\n",
              "  </tbody>\n",
              "</table>\n",
              "<p>3059 rows × 8 columns</p>\n",
              "</div>\n",
              "    <div class=\"colab-df-buttons\">\n",
              "\n",
              "  <div class=\"colab-df-container\">\n",
              "    <button class=\"colab-df-convert\" onclick=\"convertToInteractive('df-ae2ccdae-e37b-4ec9-bebf-5e3afe52c7f8')\"\n",
              "            title=\"Convert this dataframe to an interactive table.\"\n",
              "            style=\"display:none;\">\n",
              "\n",
              "  <svg xmlns=\"http://www.w3.org/2000/svg\" height=\"24px\" viewBox=\"0 -960 960 960\">\n",
              "    <path d=\"M120-120v-720h720v720H120Zm60-500h600v-160H180v160Zm220 220h160v-160H400v160Zm0 220h160v-160H400v160ZM180-400h160v-160H180v160Zm440 0h160v-160H620v160ZM180-180h160v-160H180v160Zm440 0h160v-160H620v160Z\"/>\n",
              "  </svg>\n",
              "    </button>\n",
              "\n",
              "  <style>\n",
              "    .colab-df-container {\n",
              "      display:flex;\n",
              "      gap: 12px;\n",
              "    }\n",
              "\n",
              "    .colab-df-convert {\n",
              "      background-color: #E8F0FE;\n",
              "      border: none;\n",
              "      border-radius: 50%;\n",
              "      cursor: pointer;\n",
              "      display: none;\n",
              "      fill: #1967D2;\n",
              "      height: 32px;\n",
              "      padding: 0 0 0 0;\n",
              "      width: 32px;\n",
              "    }\n",
              "\n",
              "    .colab-df-convert:hover {\n",
              "      background-color: #E2EBFA;\n",
              "      box-shadow: 0px 1px 2px rgba(60, 64, 67, 0.3), 0px 1px 3px 1px rgba(60, 64, 67, 0.15);\n",
              "      fill: #174EA6;\n",
              "    }\n",
              "\n",
              "    .colab-df-buttons div {\n",
              "      margin-bottom: 4px;\n",
              "    }\n",
              "\n",
              "    [theme=dark] .colab-df-convert {\n",
              "      background-color: #3B4455;\n",
              "      fill: #D2E3FC;\n",
              "    }\n",
              "\n",
              "    [theme=dark] .colab-df-convert:hover {\n",
              "      background-color: #434B5C;\n",
              "      box-shadow: 0px 1px 3px 1px rgba(0, 0, 0, 0.15);\n",
              "      filter: drop-shadow(0px 1px 2px rgba(0, 0, 0, 0.3));\n",
              "      fill: #FFFFFF;\n",
              "    }\n",
              "  </style>\n",
              "\n",
              "    <script>\n",
              "      const buttonEl =\n",
              "        document.querySelector('#df-ae2ccdae-e37b-4ec9-bebf-5e3afe52c7f8 button.colab-df-convert');\n",
              "      buttonEl.style.display =\n",
              "        google.colab.kernel.accessAllowed ? 'block' : 'none';\n",
              "\n",
              "      async function convertToInteractive(key) {\n",
              "        const element = document.querySelector('#df-ae2ccdae-e37b-4ec9-bebf-5e3afe52c7f8');\n",
              "        const dataTable =\n",
              "          await google.colab.kernel.invokeFunction('convertToInteractive',\n",
              "                                                    [key], {});\n",
              "        if (!dataTable) return;\n",
              "\n",
              "        const docLinkHtml = 'Like what you see? Visit the ' +\n",
              "          '<a target=\"_blank\" href=https://colab.research.google.com/notebooks/data_table.ipynb>data table notebook</a>'\n",
              "          + ' to learn more about interactive tables.';\n",
              "        element.innerHTML = '';\n",
              "        dataTable['output_type'] = 'display_data';\n",
              "        await google.colab.output.renderOutput(dataTable, element);\n",
              "        const docLink = document.createElement('div');\n",
              "        docLink.innerHTML = docLinkHtml;\n",
              "        element.appendChild(docLink);\n",
              "      }\n",
              "    </script>\n",
              "  </div>\n",
              "\n",
              "\n",
              "<div id=\"df-1e75d1b7-ee9d-4982-b6e8-dd1ce40ec70a\">\n",
              "  <button class=\"colab-df-quickchart\" onclick=\"quickchart('df-1e75d1b7-ee9d-4982-b6e8-dd1ce40ec70a')\"\n",
              "            title=\"Suggest charts\"\n",
              "            style=\"display:none;\">\n",
              "\n",
              "<svg xmlns=\"http://www.w3.org/2000/svg\" height=\"24px\"viewBox=\"0 0 24 24\"\n",
              "     width=\"24px\">\n",
              "    <g>\n",
              "        <path d=\"M19 3H5c-1.1 0-2 .9-2 2v14c0 1.1.9 2 2 2h14c1.1 0 2-.9 2-2V5c0-1.1-.9-2-2-2zM9 17H7v-7h2v7zm4 0h-2V7h2v10zm4 0h-2v-4h2v4z\"/>\n",
              "    </g>\n",
              "</svg>\n",
              "  </button>\n",
              "\n",
              "<style>\n",
              "  .colab-df-quickchart {\n",
              "      --bg-color: #E8F0FE;\n",
              "      --fill-color: #1967D2;\n",
              "      --hover-bg-color: #E2EBFA;\n",
              "      --hover-fill-color: #174EA6;\n",
              "      --disabled-fill-color: #AAA;\n",
              "      --disabled-bg-color: #DDD;\n",
              "  }\n",
              "\n",
              "  [theme=dark] .colab-df-quickchart {\n",
              "      --bg-color: #3B4455;\n",
              "      --fill-color: #D2E3FC;\n",
              "      --hover-bg-color: #434B5C;\n",
              "      --hover-fill-color: #FFFFFF;\n",
              "      --disabled-bg-color: #3B4455;\n",
              "      --disabled-fill-color: #666;\n",
              "  }\n",
              "\n",
              "  .colab-df-quickchart {\n",
              "    background-color: var(--bg-color);\n",
              "    border: none;\n",
              "    border-radius: 50%;\n",
              "    cursor: pointer;\n",
              "    display: none;\n",
              "    fill: var(--fill-color);\n",
              "    height: 32px;\n",
              "    padding: 0;\n",
              "    width: 32px;\n",
              "  }\n",
              "\n",
              "  .colab-df-quickchart:hover {\n",
              "    background-color: var(--hover-bg-color);\n",
              "    box-shadow: 0 1px 2px rgba(60, 64, 67, 0.3), 0 1px 3px 1px rgba(60, 64, 67, 0.15);\n",
              "    fill: var(--button-hover-fill-color);\n",
              "  }\n",
              "\n",
              "  .colab-df-quickchart-complete:disabled,\n",
              "  .colab-df-quickchart-complete:disabled:hover {\n",
              "    background-color: var(--disabled-bg-color);\n",
              "    fill: var(--disabled-fill-color);\n",
              "    box-shadow: none;\n",
              "  }\n",
              "\n",
              "  .colab-df-spinner {\n",
              "    border: 2px solid var(--fill-color);\n",
              "    border-color: transparent;\n",
              "    border-bottom-color: var(--fill-color);\n",
              "    animation:\n",
              "      spin 1s steps(1) infinite;\n",
              "  }\n",
              "\n",
              "  @keyframes spin {\n",
              "    0% {\n",
              "      border-color: transparent;\n",
              "      border-bottom-color: var(--fill-color);\n",
              "      border-left-color: var(--fill-color);\n",
              "    }\n",
              "    20% {\n",
              "      border-color: transparent;\n",
              "      border-left-color: var(--fill-color);\n",
              "      border-top-color: var(--fill-color);\n",
              "    }\n",
              "    30% {\n",
              "      border-color: transparent;\n",
              "      border-left-color: var(--fill-color);\n",
              "      border-top-color: var(--fill-color);\n",
              "      border-right-color: var(--fill-color);\n",
              "    }\n",
              "    40% {\n",
              "      border-color: transparent;\n",
              "      border-right-color: var(--fill-color);\n",
              "      border-top-color: var(--fill-color);\n",
              "    }\n",
              "    60% {\n",
              "      border-color: transparent;\n",
              "      border-right-color: var(--fill-color);\n",
              "    }\n",
              "    80% {\n",
              "      border-color: transparent;\n",
              "      border-right-color: var(--fill-color);\n",
              "      border-bottom-color: var(--fill-color);\n",
              "    }\n",
              "    90% {\n",
              "      border-color: transparent;\n",
              "      border-bottom-color: var(--fill-color);\n",
              "    }\n",
              "  }\n",
              "</style>\n",
              "\n",
              "  <script>\n",
              "    async function quickchart(key) {\n",
              "      const quickchartButtonEl =\n",
              "        document.querySelector('#' + key + ' button');\n",
              "      quickchartButtonEl.disabled = true;  // To prevent multiple clicks.\n",
              "      quickchartButtonEl.classList.add('colab-df-spinner');\n",
              "      try {\n",
              "        const charts = await google.colab.kernel.invokeFunction(\n",
              "            'suggestCharts', [key], {});\n",
              "      } catch (error) {\n",
              "        console.error('Error during call to suggestCharts:', error);\n",
              "      }\n",
              "      quickchartButtonEl.classList.remove('colab-df-spinner');\n",
              "      quickchartButtonEl.classList.add('colab-df-quickchart-complete');\n",
              "    }\n",
              "    (() => {\n",
              "      let quickchartButtonEl =\n",
              "        document.querySelector('#df-1e75d1b7-ee9d-4982-b6e8-dd1ce40ec70a button');\n",
              "      quickchartButtonEl.style.display =\n",
              "        google.colab.kernel.accessAllowed ? 'block' : 'none';\n",
              "    })();\n",
              "  </script>\n",
              "</div>\n",
              "\n",
              "  <div id=\"id_7441a86f-cccd-41d5-aed1-1dcbbb3147ca\">\n",
              "    <style>\n",
              "      .colab-df-generate {\n",
              "        background-color: #E8F0FE;\n",
              "        border: none;\n",
              "        border-radius: 50%;\n",
              "        cursor: pointer;\n",
              "        display: none;\n",
              "        fill: #1967D2;\n",
              "        height: 32px;\n",
              "        padding: 0 0 0 0;\n",
              "        width: 32px;\n",
              "      }\n",
              "\n",
              "      .colab-df-generate:hover {\n",
              "        background-color: #E2EBFA;\n",
              "        box-shadow: 0px 1px 2px rgba(60, 64, 67, 0.3), 0px 1px 3px 1px rgba(60, 64, 67, 0.15);\n",
              "        fill: #174EA6;\n",
              "      }\n",
              "\n",
              "      [theme=dark] .colab-df-generate {\n",
              "        background-color: #3B4455;\n",
              "        fill: #D2E3FC;\n",
              "      }\n",
              "\n",
              "      [theme=dark] .colab-df-generate:hover {\n",
              "        background-color: #434B5C;\n",
              "        box-shadow: 0px 1px 3px 1px rgba(0, 0, 0, 0.15);\n",
              "        filter: drop-shadow(0px 1px 2px rgba(0, 0, 0, 0.3));\n",
              "        fill: #FFFFFF;\n",
              "      }\n",
              "    </style>\n",
              "    <button class=\"colab-df-generate\" onclick=\"generateWithVariable('data')\"\n",
              "            title=\"Generate code using this dataframe.\"\n",
              "            style=\"display:none;\">\n",
              "\n",
              "  <svg xmlns=\"http://www.w3.org/2000/svg\" height=\"24px\"viewBox=\"0 0 24 24\"\n",
              "       width=\"24px\">\n",
              "    <path d=\"M7,19H8.4L18.45,9,17,7.55,7,17.6ZM5,21V16.75L18.45,3.32a2,2,0,0,1,2.83,0l1.4,1.43a1.91,1.91,0,0,1,.58,1.4,1.91,1.91,0,0,1-.58,1.4L9.25,21ZM18.45,9,17,7.55Zm-12,3A5.31,5.31,0,0,0,4.9,8.1,5.31,5.31,0,0,0,1,6.5,5.31,5.31,0,0,0,4.9,4.9,5.31,5.31,0,0,0,6.5,1,5.31,5.31,0,0,0,8.1,4.9,5.31,5.31,0,0,0,12,6.5,5.46,5.46,0,0,0,6.5,12Z\"/>\n",
              "  </svg>\n",
              "    </button>\n",
              "    <script>\n",
              "      (() => {\n",
              "      const buttonEl =\n",
              "        document.querySelector('#id_7441a86f-cccd-41d5-aed1-1dcbbb3147ca button.colab-df-generate');\n",
              "      buttonEl.style.display =\n",
              "        google.colab.kernel.accessAllowed ? 'block' : 'none';\n",
              "\n",
              "      buttonEl.onclick = () => {\n",
              "        google.colab.notebook.generateWithVariable('data');\n",
              "      }\n",
              "      })();\n",
              "    </script>\n",
              "  </div>\n",
              "\n",
              "    </div>\n",
              "  </div>\n"
            ],
            "application/vnd.google.colaboratory.intrinsic+json": {
              "type": "dataframe",
              "variable_name": "data",
              "summary": "{\n  \"name\": \"data\",\n  \"rows\": 3059,\n  \"fields\": [\n    {\n      \"column\": \"index\",\n      \"properties\": {\n        \"dtype\": \"number\",\n        \"std\": 883,\n        \"min\": 0,\n        \"max\": 3058,\n        \"num_unique_values\": 3059,\n        \"samples\": [\n          1764,\n          203,\n          1356\n        ],\n        \"semantic_type\": \"\",\n        \"description\": \"\"\n      }\n    },\n    {\n      \"column\": \"Date\",\n      \"properties\": {\n        \"dtype\": \"date\",\n        \"min\": \"2012-01-03 00:00:00\",\n        \"max\": \"2024-02-29 00:00:00\",\n        \"num_unique_values\": 3059,\n        \"samples\": [\n          \"2019-01-08 00:00:00\",\n          \"2012-10-22 00:00:00\",\n          \"2017-05-24 00:00:00\"\n        ],\n        \"semantic_type\": \"\",\n        \"description\": \"\"\n      }\n    },\n    {\n      \"column\": \"Open\",\n      \"properties\": {\n        \"dtype\": \"number\",\n        \"std\": 39.748390818000395,\n        \"min\": 13.956189155578613,\n        \"max\": 154.00999450683594,\n        \"num_unique_values\": 2976,\n        \"samples\": [\n          141.2135009765625,\n          134.60000610351562,\n          106.05000305175781\n        ],\n        \"semantic_type\": \"\",\n        \"description\": \"\"\n      }\n    },\n    {\n      \"column\": \"High\",\n      \"properties\": {\n        \"dtype\": \"number\",\n        \"std\": 40.22052251679152,\n        \"min\": 14.060298919677734,\n        \"max\": 155.1999969482422,\n        \"num_unique_values\": 3004,\n        \"samples\": [\n          25.81512451171875,\n          138.29400634765625,\n          17.755447387695312\n        ],\n        \"semantic_type\": \"\",\n        \"description\": \"\"\n      }\n    },\n    {\n      \"column\": \"Low\",\n      \"properties\": {\n        \"dtype\": \"number\",\n        \"std\": 39.329053674297334,\n        \"min\": 13.861044883728027,\n        \"max\": 152.9199981689453,\n        \"num_unique_values\": 3013,\n        \"samples\": [\n          20.480981826782227,\n          117.11849975585938,\n          50.782501220703125\n        ],\n        \"semantic_type\": \"\",\n        \"description\": \"\"\n      }\n    },\n    {\n      \"column\": \"Close\",\n      \"properties\": {\n        \"dtype\": \"number\",\n        \"std\": 39.77817719119833,\n        \"min\": 13.92405891418457,\n        \"max\": 154.83999633789062,\n        \"num_unique_values\": 3021,\n        \"samples\": [\n          46.867000579833984,\n          27.492021560668945,\n          20.434158325195312\n        ],\n        \"semantic_type\": \"\",\n        \"description\": \"\"\n      }\n    },\n    {\n      \"column\": \"Adj Close\",\n      \"properties\": {\n        \"dtype\": \"number\",\n        \"std\": 39.77817719119833,\n        \"min\": 13.92405891418457,\n        \"max\": 154.83999633789062,\n        \"num_unique_values\": 3021,\n        \"samples\": [\n          46.867000579833984,\n          27.492021560668945,\n          20.434158325195312\n        ],\n        \"semantic_type\": \"\",\n        \"description\": \"\"\n      }\n    },\n    {\n      \"column\": \"Volume\",\n      \"properties\": {\n        \"dtype\": \"number\",\n        \"std\": 34938310,\n        \"min\": 158434,\n        \"max\": 499561487,\n        \"num_unique_values\": 2968,\n        \"samples\": [\n          21150000,\n          32332000,\n          16876000\n        ],\n        \"semantic_type\": \"\",\n        \"description\": \"\"\n      }\n    }\n  ]\n}"
            }
          },
          "metadata": {},
          "execution_count": 6
        }
      ]
    },
    {
      "cell_type": "markdown",
      "source": [
        "calculating the 100-day simple moving average (SMA) of the closing prices of a financial instrument, presumably a stock."
      ],
      "metadata": {
        "id": "auk0pOt3ZmNm"
      }
    },
    {
      "cell_type": "code",
      "source": [
        "ma_100_days = data.Close.rolling(100).mean()"
      ],
      "metadata": {
        "id": "mcX4v1YwXGrP"
      },
      "execution_count": 7,
      "outputs": []
    },
    {
      "cell_type": "markdown",
      "source": [
        "Plotting that"
      ],
      "metadata": {
        "id": "XTKU3zLNZn6B"
      }
    },
    {
      "cell_type": "code",
      "source": [
        "plt.figure(figsize=(8,6))\n",
        "plt.plot(ma_100_days, 'r')\n",
        "plt.plot(data.Close, 'g')\n",
        "plt.show()"
      ],
      "metadata": {
        "colab": {
          "base_uri": "https://localhost:8080/",
          "height": 522
        },
        "id": "BbRP8lr4XGui",
        "outputId": "58117126-3aa1-4d8e-f994-62b35c6cf88b"
      },
      "execution_count": 8,
      "outputs": [
        {
          "output_type": "display_data",
          "data": {
            "text/plain": [
              "<Figure size 800x600 with 1 Axes>"
            ],
            "image/png": "[encoded data removed]"
          },
          "metadata": {}
        }
      ]
    },
    {
      "cell_type": "markdown",
      "source": [
        "calculating the 200-day simple moving average (SMA) of the closing prices of a financial instrument, presumably a stock."
      ],
      "metadata": {
        "id": "zcuy9lhCZriA"
      }
    },
    {
      "cell_type": "code",
      "source": [
        "ma_200_days = data.Close.rolling(200).mean()"
      ],
      "metadata": {
        "id": "HDqs9y18XGyC"
      },
      "execution_count": 9,
      "outputs": []
    },
    {
      "cell_type": "markdown",
      "source": [
        "Plotting that"
      ],
      "metadata": {
        "id": "MULmlkuJZv9a"
      }
    },
    {
      "cell_type": "code",
      "source": [
        "plt.figure(figsize=(8,6))\n",
        "plt.plot(ma_100_days, 'r')\n",
        "plt.plot(ma_200_days,'b')\n",
        "plt.plot(data.Close,'g')\n",
        "plt.show()"
      ],
      "metadata": {
        "colab": {
          "base_uri": "https://localhost:8080/",
          "height": 522
        },
        "id": "4rwfZeW2XyuY",
        "outputId": "3bdbbecb-c1eb-4f69-cb2c-3175339fb9df"
      },
      "execution_count": 10,
      "outputs": [
        {
          "output_type": "display_data",
          "data": {
            "text/plain": [
              "<Figure size 800x600 with 1 Axes>"
            ],
            "image/png": "[encoded data removed]"
          },
          "metadata": {}
        }
      ]
    },
    {
      "cell_type": "markdown",
      "source": [
        "Dropping nan values"
      ],
      "metadata": {
        "id": "9HxUrbIgZyu-"
      }
    },
    {
      "cell_type": "code",
      "source": [
        "data.dropna(inplace=True)"
      ],
      "metadata": {
        "id": "9qmmDH8IX0pj"
      },
      "execution_count": 11,
      "outputs": []
    },
    {
      "cell_type": "markdown",
      "source": [
        "Let's split the training data and testing data"
      ],
      "metadata": {
        "id": "gFd6TQa5Z-Ua"
      }
    },
    {
      "cell_type": "code",
      "source": [
        "data_train = pd.DataFrame(data.Close[0: int(len(data)*0.80)])\n",
        "data_test = pd.DataFrame(data.Close[int(len(data)*0.80): len(data)])"
      ],
      "metadata": {
        "id": "WWqPq9mVX5Em"
      },
      "execution_count": 12,
      "outputs": []
    },
    {
      "cell_type": "markdown",
      "source": [
        "Shape of training data"
      ],
      "metadata": {
        "id": "-kZ-fTxFaGX0"
      }
    },
    {
      "cell_type": "code",
      "source": [
        "data_train.shape[0]"
      ],
      "metadata": {
        "colab": {
          "base_uri": "https://localhost:8080/"
        },
        "id": "iZexqr7fX8mA",
        "outputId": "16a4396a-6769-46a2-9ee2-5895b14461c7"
      },
      "execution_count": 13,
      "outputs": [
        {
          "output_type": "execute_result",
          "data": {
            "text/plain": [
              "2447"
            ]
          },
          "metadata": {},
          "execution_count": 13
        }
      ]
    },
    {
      "cell_type": "markdown",
      "source": [
        "Shape of testing data"
      ],
      "metadata": {
        "id": "xQqqVo9naJP2"
      }
    },
    {
      "cell_type": "code",
      "source": [
        "data_test.shape[0]"
      ],
      "metadata": {
        "colab": {
          "base_uri": "https://localhost:8080/"
        },
        "id": "EYGmcxh4X_WG",
        "outputId": "20bf5f21-8a66-4567-b395-718e36ae94b1"
      },
      "execution_count": 14,
      "outputs": [
        {
          "output_type": "execute_result",
          "data": {
            "text/plain": [
              "612"
            ]
          },
          "metadata": {},
          "execution_count": 14
        }
      ]
    },
    {
      "cell_type": "markdown",
      "source": [
        "Importing necessary libraries"
      ],
      "metadata": {
        "id": "VrlGNsiNaLud"
      }
    },
    {
      "cell_type": "code",
      "source": [
        "from sklearn.preprocessing import MinMaxScaler\n",
        "scaler = MinMaxScaler(feature_range=(0,1))"
      ],
      "metadata": {
        "id": "RDDl2ZGJYC3g"
      },
      "execution_count": 15,
      "outputs": []
    },
    {
      "cell_type": "markdown",
      "source": [
        "Fitting of data"
      ],
      "metadata": {
        "id": "b0zYzil_aQDR"
      }
    },
    {
      "cell_type": "code",
      "source": [
        "data_train_scale = scaler.fit_transform(data_train)"
      ],
      "metadata": {
        "id": "E3-oWbh8YFAg"
      },
      "execution_count": 16,
      "outputs": []
    },
    {
      "cell_type": "code",
      "source": [
        "x = []\n",
        "y = []\n",
        "\n",
        "for i in range(100, data_train_scale.shape[0]):\n",
        "    x.append(data_train_scale[i-100:i])\n",
        "    y.append(data_train_scale[i,0])\n"
      ],
      "metadata": {
        "id": "8t3j2hPoYHoD"
      },
      "execution_count": 17,
      "outputs": []
    },
    {
      "cell_type": "code",
      "source": [
        "x, y = np.array(x), np.array(y)"
      ],
      "metadata": {
        "id": "bZ7um_0kYJ8f"
      },
      "execution_count": 18,
      "outputs": []
    },
    {
      "cell_type": "markdown",
      "source": [
        "Importing necessary frameworks"
      ],
      "metadata": {
        "id": "PixolNvBaUeD"
      }
    },
    {
      "cell_type": "code",
      "source": [
        "from keras.layers import Dense, Dropout, LSTM\n",
        "from keras.models import Sequential"
      ],
      "metadata": {
        "id": "Tj3-_BM9YMmZ"
      },
      "execution_count": 19,
      "outputs": []
    },
    {
      "cell_type": "markdown",
      "source": [
        "**Model Building**"
      ],
      "metadata": {
        "id": "ldpyy3n7aYSH"
      }
    },
    {
      "cell_type": "code",
      "source": [
        "model = Sequential()\n",
        "model.add(LSTM(units = 50, activation = 'relu', return_sequences = True,\n",
        "               input_shape = ((x.shape[1],1))))\n",
        "model.add(Dropout(0.2))\n",
        "\n",
        "model.add(LSTM(units = 60, activation='relu', return_sequences = True))\n",
        "model.add(Dropout(0.3))\n",
        "\n",
        "model.add(LSTM(units = 80, activation = 'relu', return_sequences = True))\n",
        "model.add(Dropout(0.4))\n",
        "\n",
        "model.add(LSTM(units = 120, activation = 'relu'))\n",
        "model.add(Dropout(0.5))\n",
        "\n",
        "model.add(Dense(units =1))"
      ],
      "metadata": {
        "id": "F-9sNiSlYO2n"
      },
      "execution_count": 20,
      "outputs": []
    },
    {
      "cell_type": "markdown",
      "source": [
        "Using **Adam Algorithm**"
      ],
      "metadata": {
        "id": "R-Qomi_WadOM"
      }
    },
    {
      "cell_type": "code",
      "source": [
        "model.compile(optimizer = 'adam', loss = 'mean_squared_error')"
      ],
      "metadata": {
        "id": "j-NVX3e0YROe"
      },
      "execution_count": 21,
      "outputs": []
    },
    {
      "cell_type": "code",
      "source": [
        "model.fit(x,y, epochs = 50, batch_size =32, verbose =1)"
      ],
      "metadata": {
        "colab": {
          "base_uri": "https://localhost:8080/"
        },
        "id": "8-6iT19rYUaJ",
        "outputId": "90029888-0027-4a9c-beff-9536825e7a8a"
      },
      "execution_count": 22,
      "outputs": [
        {
          "output_type": "stream",
          "name": "stdout",
          "text": [
            "Epoch 1/50\n",
            "74/74 [==============================] - 24s 261ms/step - loss: 0.0187\n",
            "Epoch 2/50\n",
            "74/74 [==============================] - 19s 262ms/step - loss: 0.0034\n",
            "Epoch 3/50\n",
            "74/74 [==============================] - 19s 263ms/step - loss: 0.0036\n",
            "Epoch 4/50\n",
            "74/74 [==============================] - 27s 370ms/step - loss: 0.0037\n",
            "Epoch 5/50\n",
            "74/74 [==============================] - 22s 299ms/step - loss: 0.0031\n",
            "Epoch 6/50\n",
            "74/74 [==============================] - 18s 243ms/step - loss: 0.0032\n",
            "Epoch 7/50\n",
            "74/74 [==============================] - 19s 255ms/step - loss: 0.0026\n",
            "Epoch 8/50\n",
            "74/74 [==============================] - 18s 244ms/step - loss: 0.0023\n",
            "Epoch 9/50\n",
            "74/74 [==============================] - 20s 273ms/step - loss: 0.0021\n",
            "Epoch 10/50\n",
            "74/74 [==============================] - 18s 244ms/step - loss: 0.0023\n",
            "Epoch 11/50\n",
            "74/74 [==============================] - 19s 255ms/step - loss: 0.0022\n",
            "Epoch 12/50\n",
            "74/74 [==============================] - 18s 244ms/step - loss: 0.0024\n",
            "Epoch 13/50\n",
            "74/74 [==============================] - 18s 248ms/step - loss: 0.0019\n",
            "Epoch 14/50\n",
            "74/74 [==============================] - 19s 251ms/step - loss: 0.0019\n",
            "Epoch 15/50\n",
            "74/74 [==============================] - 18s 243ms/step - loss: 0.0016\n",
            "Epoch 16/50\n",
            "74/74 [==============================] - 19s 258ms/step - loss: 0.0020\n",
            "Epoch 17/50\n",
            "74/74 [==============================] - 18s 243ms/step - loss: 0.0017\n",
            "Epoch 18/50\n",
            "74/74 [==============================] - 19s 260ms/step - loss: 0.0018\n",
            "Epoch 19/50\n",
            "74/74 [==============================] - 18s 243ms/step - loss: 0.0017\n",
            "Epoch 20/50\n",
            "74/74 [==============================] - 19s 258ms/step - loss: 0.0016\n",
            "Epoch 21/50\n",
            "74/74 [==============================] - 18s 243ms/step - loss: 0.0018\n",
            "Epoch 22/50\n",
            "74/74 [==============================] - 19s 259ms/step - loss: 0.0017\n",
            "Epoch 23/50\n",
            "74/74 [==============================] - 18s 244ms/step - loss: 0.0018\n",
            "Epoch 24/50\n",
            "74/74 [==============================] - 19s 258ms/step - loss: 0.0015\n",
            "Epoch 25/50\n",
            "74/74 [==============================] - 18s 242ms/step - loss: 0.0016\n",
            "Epoch 26/50\n",
            "74/74 [==============================] - 24s 330ms/step - loss: 0.0017\n",
            "Epoch 27/50\n",
            "74/74 [==============================] - 19s 260ms/step - loss: 0.0014\n",
            "Epoch 28/50\n",
            "74/74 [==============================] - 18s 246ms/step - loss: 0.0015\n",
            "Epoch 29/50\n",
            "74/74 [==============================] - 19s 263ms/step - loss: 0.0014\n",
            "Epoch 30/50\n",
            "74/74 [==============================] - 18s 245ms/step - loss: 0.0016\n",
            "Epoch 31/50\n",
            "74/74 [==============================] - 19s 258ms/step - loss: 0.0016\n",
            "Epoch 32/50\n",
            "74/74 [==============================] - 18s 245ms/step - loss: 0.0016\n",
            "Epoch 33/50\n",
            "74/74 [==============================] - 19s 251ms/step - loss: 0.0015\n",
            "Epoch 34/50\n",
            "74/74 [==============================] - 18s 247ms/step - loss: 0.0013\n",
            "Epoch 35/50\n",
            "74/74 [==============================] - 18s 245ms/step - loss: 0.0014\n",
            "Epoch 36/50\n",
            "74/74 [==============================] - 19s 253ms/step - loss: 0.0013\n",
            "Epoch 37/50\n",
            "74/74 [==============================] - 18s 245ms/step - loss: 0.0015\n",
            "Epoch 38/50\n",
            "74/74 [==============================] - 19s 258ms/step - loss: 0.0016\n",
            "Epoch 39/50\n",
            "74/74 [==============================] - 18s 244ms/step - loss: 0.0013\n",
            "Epoch 40/50\n",
            "74/74 [==============================] - 19s 259ms/step - loss: 0.0013\n",
            "Epoch 41/50\n",
            "74/74 [==============================] - 18s 244ms/step - loss: 0.0013\n",
            "Epoch 42/50\n",
            "74/74 [==============================] - 19s 260ms/step - loss: 0.0016\n",
            "Epoch 43/50\n",
            "74/74 [==============================] - 18s 243ms/step - loss: 0.0014\n",
            "Epoch 44/50\n",
            "74/74 [==============================] - 19s 259ms/step - loss: 0.0013\n",
            "Epoch 45/50\n",
            "74/74 [==============================] - 18s 243ms/step - loss: 0.0014\n",
            "Epoch 46/50\n",
            "74/74 [==============================] - 19s 259ms/step - loss: 0.0014\n",
            "Epoch 47/50\n",
            "74/74 [==============================] - 18s 244ms/step - loss: 0.0015\n",
            "Epoch 48/50\n",
            "74/74 [==============================] - 19s 259ms/step - loss: 0.0014\n",
            "Epoch 49/50\n",
            "74/74 [==============================] - 18s 246ms/step - loss: 0.0013\n",
            "Epoch 50/50\n",
            "74/74 [==============================] - 19s 259ms/step - loss: 0.0014\n"
          ]
        },
        {
          "output_type": "execute_result",
          "data": {
            "text/plain": [
              "<keras.src.callbacks.History at 0x78ff7e043be0>"
            ]
          },
          "metadata": {},
          "execution_count": 22
        }
      ]
    },
    {
      "cell_type": "markdown",
      "source": [
        "Checking summary"
      ],
      "metadata": {
        "id": "Ub19ZFilbKa0"
      }
    },
    {
      "cell_type": "code",
      "source": [
        "model.summary()"
      ],
      "metadata": {
        "colab": {
          "base_uri": "https://localhost:8080/"
        },
        "id": "HrApgz6GYWc8",
        "outputId": "b6d6ebf2-0ba0-4959-c782-25091020ab9f"
      },
      "execution_count": 23,
      "outputs": [
        {
          "output_type": "stream",
          "name": "stdout",
          "text": [
            "Model: \"sequential\"\n",
            "_________________________________________________________________\n",
            " Layer (type)                Output Shape              Param #   \n",
            "=================================================================\n",
            " lstm (LSTM)                 (None, 100, 50)           10400     \n",
            "                                                                 \n",
            " dropout (Dropout)           (None, 100, 50)           0         \n",
            "                                                                 \n",
            " lstm_1 (LSTM)               (None, 100, 60)           26640     \n",
            "                                                                 \n",
            " dropout_1 (Dropout)         (None, 100, 60)           0         \n",
            "                                                                 \n",
            " lstm_2 (LSTM)               (None, 100, 80)           45120     \n",
            "                                                                 \n",
            " dropout_2 (Dropout)         (None, 100, 80)           0         \n",
            "                                                                 \n",
            " lstm_3 (LSTM)               (None, 120)               96480     \n",
            "                                                                 \n",
            " dropout_3 (Dropout)         (None, 120)               0         \n",
            "                                                                 \n",
            " dense (Dense)               (None, 1)                 121       \n",
            "                                                                 \n",
            "=================================================================\n",
            "Total params: 178761 (698.29 KB)\n",
            "Trainable params: 178761 (698.29 KB)\n",
            "Non-trainable params: 0 (0.00 Byte)\n",
            "_________________________________________________________________\n"
          ]
        }
      ]
    },
    {
      "cell_type": "markdown",
      "source": [
        " creating a new DataFrame pas_100_days by selecting the last 100 rows from the DataFrame data_train"
      ],
      "metadata": {
        "id": "CC_wLULKbVfc"
      }
    },
    {
      "cell_type": "code",
      "source": [
        "pas_100_days = data_train.tail(100)"
      ],
      "metadata": {
        "id": "lm68lDAfaq9T"
      },
      "execution_count": 24,
      "outputs": []
    },
    {
      "cell_type": "markdown",
      "source": [
        "concatenate two DataFrames, pas_100_days and data_test"
      ],
      "metadata": {
        "id": "yCmAgC18bWi7"
      }
    },
    {
      "cell_type": "code",
      "source": [
        "data_test = pd.concat([pas_100_days, data_test], ignore_index=True)"
      ],
      "metadata": {
        "id": "MeCD3-o0aq57"
      },
      "execution_count": 25,
      "outputs": []
    },
    {
      "cell_type": "markdown",
      "source": [
        "a scaler to transform the data in the data_test DataFrame"
      ],
      "metadata": {
        "id": "9iSPNqykboFu"
      }
    },
    {
      "cell_type": "code",
      "source": [
        "data_test_scale  =  scaler.fit_transform(data_test)"
      ],
      "metadata": {
        "id": "52KbdO6Eaq20"
      },
      "execution_count": 26,
      "outputs": []
    },
    {
      "cell_type": "code",
      "source": [
        "x = []\n",
        "y = []\n",
        "\n",
        "for i in range(100, data_test_scale.shape[0]):\n",
        "    x.append(data_test_scale[i-100:i])\n",
        "    y.append(data_test_scale[i,0])\n",
        "x, y = np.array(x), np.array(y)"
      ],
      "metadata": {
        "id": "5SkTxT4vaqzJ"
      },
      "execution_count": 27,
      "outputs": []
    },
    {
      "cell_type": "markdown",
      "source": [
        "Predicting phase"
      ],
      "metadata": {
        "id": "N1cLa3RQbpn5"
      }
    },
    {
      "cell_type": "code",
      "source": [
        "y_predict = model.predict(x)"
      ],
      "metadata": {
        "colab": {
          "base_uri": "https://localhost:8080/"
        },
        "id": "DzU4yUxVaque",
        "outputId": "1d1cc785-1327-4507-a353-4a5dbda361c9"
      },
      "execution_count": 28,
      "outputs": [
        {
          "output_type": "stream",
          "name": "stdout",
          "text": [
            "20/20 [==============================] - 2s 71ms/step\n"
          ]
        }
      ]
    },
    {
      "cell_type": "code",
      "source": [
        "scale =1/scaler.scale_"
      ],
      "metadata": {
        "id": "fLXxmsgyaqrN"
      },
      "execution_count": 29,
      "outputs": []
    },
    {
      "cell_type": "code",
      "source": [
        "y_predict = y_predict*scale"
      ],
      "metadata": {
        "id": "Cd6zDnH6a5fx"
      },
      "execution_count": 30,
      "outputs": []
    },
    {
      "cell_type": "code",
      "source": [
        "y = y*scale"
      ],
      "metadata": {
        "id": "Tvh5t6d8a5cX"
      },
      "execution_count": 31,
      "outputs": []
    },
    {
      "cell_type": "code",
      "source": [
        "plt.figure(figsize=(10,8))\n",
        "plt.plot(y_predict, 'r', label = 'Predicted Price')\n",
        "plt.plot(y, 'g', label = 'Original Price')\n",
        "plt.xlabel('Time')\n",
        "plt.ylabel('Price')\n",
        "plt.legend()\n",
        "plt.show()"
      ],
      "metadata": {
        "colab": {
          "base_uri": "https://localhost:8080/",
          "height": 696
        },
        "id": "nPR1GSIDa5Zl",
        "outputId": "4a8663e8-1af1-4bee-9b31-d8008bec4e01"
      },
      "execution_count": 32,
      "outputs": [
        {
          "output_type": "display_data",
          "data": {
            "text/plain": [
              "<Figure size 1000x800 with 1 Axes>"
            ],
            "image/png": "[encoded data removed]"
          },
          "metadata": {}
        }
      ]
    },
    {
      "cell_type": "code",
      "source": [
        "model.save('Stock Predictions Model.keras')"
      ],
      "metadata": {
        "id": "13uAcW7Euonb"
      },
      "execution_count": 33,
      "outputs": []
    },
    {
      "cell_type": "code",
      "source": [],
      "metadata": {
        "id": "d91WS3Z-yRkW"
      },
      "execution_count": null,
      "outputs": []
    }
  ]
}
